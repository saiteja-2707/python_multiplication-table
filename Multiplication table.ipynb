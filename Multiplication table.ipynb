{
 "cells": [
  {
   "cell_type": "markdown",
   "id": "0183b0d7",
   "metadata": {},
   "source": [
    "# MULTIPLICATION TABLE"
   ]
  },
  {
   "cell_type": "code",
   "execution_count": 11,
   "id": "69f153aa",
   "metadata": {},
   "outputs": [
    {
     "name": "stdout",
     "output_type": "stream",
     "text": [
      "12 * 1 = 12\n",
      "12 * 2 = 24\n",
      "12 * 3 = 36\n",
      "12 * 4 = 48\n",
      "12 * 5 = 60\n",
      "12 * 6 = 72\n",
      "12 * 7 = 84\n",
      "12 * 8 = 96\n",
      "12 * 9 = 108\n",
      "12 * 10 = 120\n"
     ]
    }
   ],
   "source": [
    "n=12  #multipilcation of'12'\n",
    "for i in range(1,11):  #multiplies from 1 to 10\n",
    "    print(n,\"*\",i,\"=\",n*i)"
   ]
  },
  {
   "cell_type": "code",
   "execution_count": 12,
   "id": "ab82a026",
   "metadata": {},
   "outputs": [
    {
     "name": "stdout",
     "output_type": "stream",
     "text": [
      "12 * 10 = 120\n",
      "12 * 20 = 120\n",
      "12 * 30 = 120\n",
      "12 * 40 = 120\n",
      "12 * 50 = 120\n",
      "12 * 60 = 120\n",
      "12 * 70 = 120\n",
      "12 * 80 = 120\n",
      "12 * 90 = 120\n",
      "12 * 100 = 120\n"
     ]
    }
   ],
   "source": [
    "n=12\n",
    "for i in range (10,101,10):  #multiplication of 12 with an interval of '10'\n",
    "    print(n,\"*\",i,\"=\",n*10)"
   ]
  },
  {
   "cell_type": "code",
   "execution_count": null,
   "id": "58b3570e",
   "metadata": {},
   "outputs": [],
   "source": []
  }
 ],
 "metadata": {
  "kernelspec": {
   "display_name": "Python 3",
   "language": "python",
   "name": "python3"
  },
  "language_info": {
   "codemirror_mode": {
    "name": "ipython",
    "version": 3
   },
   "file_extension": ".py",
   "mimetype": "text/x-python",
   "name": "python",
   "nbconvert_exporter": "python",
   "pygments_lexer": "ipython3",
   "version": "3.8.8"
  }
 },
 "nbformat": 4,
 "nbformat_minor": 5
}
